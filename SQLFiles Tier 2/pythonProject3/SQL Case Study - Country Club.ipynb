{
 "cells": [
  {
   "metadata": {
    "ExecuteTime": {
     "end_time": "2024-05-28T23:18:22.144054Z",
     "start_time": "2024-05-28T23:18:22.132273Z"
    }
   },
   "cell_type": "code",
   "source": [
    "import sqlite3\n",
    "import pandas as pd\n",
    "\n",
    "# Connect to SQLite database\n",
    "connection = sqlite3.connect('sqlite_db_pythonsqlite.db')\n",
    "\n",
    "# Create a cursor object\n",
    "cursor = connection.cursor()"
   ],
   "id": "3c2aff4a802285b1",
   "outputs": [],
   "execution_count": 153
  },
  {
   "metadata": {
    "ExecuteTime": {
     "end_time": "2024-05-28T23:18:22.158883Z",
     "start_time": "2024-05-28T23:18:22.146393Z"
    }
   },
   "cell_type": "code",
   "source": [
    "#Q10: Produce a list of facilities with a total revenue less than 1000.\n",
    "#The output of facility name and total revenue, sorted by revenue. Remember\n",
    "#that there's a different cost for guests and members! */\n",
    "\n",
    "# Define SQL query\n",
    "query = \"\"\"\n",
    "SELECT f.name, \n",
    "    SUM(\n",
    "        CASE\n",
    "            WHEN b.memid = 0 THEN b.slots * f.guestcost -- cost for guests\n",
    "            ELSE b.slots * f.membercost -- cost for members \n",
    "        END\n",
    "    ) AS Total_Revenue\n",
    "FROM Facilities as f\n",
    "Inner JOIN Bookings as b ON b.facid = f.facid\n",
    "GROUP BY f.name\n",
    "HAVING Total_Revenue < 1000\n",
    "ORDER BY Total_Revenue DESC\n",
    "\"\"\"\n",
    "\n",
    "# Execute the SQL query and fetch the result into a pandas DataFrame\n",
    "df = pd.read_sql_query(query, connection)\n",
    " \n",
    "# Print the DF\n",
    "print(df)"
   ],
   "id": "41e9b6e84f6eec91",
   "outputs": [
    {
     "name": "stdout",
     "output_type": "stream",
     "text": [
      "            name  Total_Revenue\n",
      "0     Pool Table            270\n",
      "1  Snooker Table            240\n",
      "2   Table Tennis            180\n"
     ]
    }
   ],
   "execution_count": 154
  },
  {
   "metadata": {
    "ExecuteTime": {
     "end_time": "2024-05-28T23:18:22.164714Z",
     "start_time": "2024-05-28T23:18:22.160195Z"
    }
   },
   "cell_type": "code",
   "source": [
    "# /* Q11: Produce a report of members and who recommended them in alphabetic surname,firstname order */\n",
    "\n",
    "# Define SQL query\n",
    "query = \"\"\"\n",
    "SELECT m1.firstname || ' ' || m1.surname AS Member, \n",
    "       m2.firstname || ' ' || m2.surname AS Recommended_by \n",
    "FROM Members AS m1 \n",
    "LEFT JOIN Members AS m2 ON m1.recommendedby = m2.memid \n",
    "WHERE m1.recommendedby != ''\n",
    "ORDER BY m2.surname, m2.firstname;\n",
    "\"\"\"\n",
    "\n",
    "# Execute the SQL query and fetch the result into a pandas DataFrame\n",
    "df = pd.read_sql_query(query, connection)\n",
    "\n",
    "# Print the DF\n",
    "print(df)\n"
   ],
   "id": "550d598887c038d2",
   "outputs": [
    {
     "name": "stdout",
     "output_type": "stream",
     "text": [
      "                     Member     Recommended_by\n",
      "0          Ramnaresh Sarwin     Florence Bader\n",
      "1               Joan Coplin      Timothy Baker\n",
      "2           Matthew Genting     Gerald Butters\n",
      "3             Timothy Baker     Jemima Farrell\n",
      "4              David Pinker     Jemima Farrell\n",
      "5          Henrietta Rumney    Matthew Genting\n",
      "6             Douglas Jones        David Jones\n",
      "7                Nancy Dare    Janice Joplette\n",
      "8               David Jones    Janice Joplette\n",
      "9                 John Hunt  Millicent Purview\n",
      "10               Tim Boothe         Tim Rownam\n",
      "11          Janice Joplette       Darren Smith\n",
      "12           Gerald Butters       Darren Smith\n",
      "13             Charles Owen       Darren Smith\n",
      "14               Jack Smith       Darren Smith\n",
      "15           Anna Mackenzie       Darren Smith\n",
      "16  Henry Worthington-Smyth        Tracy Smith\n",
      "17        Millicent Purview        Tracy Smith\n",
      "18            Erica Crumpet        Tracy Smith\n",
      "19               Anne Baker    Ponder Stibbons\n",
      "20           Florence Bader    Ponder Stibbons\n",
      "21          Ponder Stibbons       Burton Tracy\n"
     ]
    }
   ],
   "execution_count": 155
  },
  {
   "metadata": {
    "ExecuteTime": {
     "end_time": "2024-05-28T23:18:22.171422Z",
     "start_time": "2024-05-28T23:18:22.165630Z"
    }
   },
   "cell_type": "code",
   "source": [
    "#/* Q12: Find the facilities with their usage by member, but not guests */\n",
    "\n",
    "# Define SQL query\n",
    "query = \"\"\"\n",
    "SELECT f.name, COUNT(b.bookid) as 'Total Member Bookings', SUM(b.slots) as 'Total Slots'\n",
    "FROM Facilities as f\n",
    "INNER JOIN Bookings as b ON b.facid = f.facid\n",
    "GROUP BY f.name\n",
    "\"\"\"\n",
    "\n",
    "# Execute the SQL query and fetch the result into a pandas DataFrame\n",
    "df = pd.read_sql_query(query, connection)\n",
    "\n",
    "# Print the DF\n",
    "print(df)"
   ],
   "id": "8589b9334e6d742b",
   "outputs": [
    {
     "name": "stdout",
     "output_type": "stream",
     "text": [
      "              name  Total Member Bookings  Total Slots\n",
      "0  Badminton Court                    383         1209\n",
      "1   Massage Room 1                    629         1404\n",
      "2   Massage Room 2                    111          228\n",
      "3       Pool Table                    836          910\n",
      "4    Snooker Table                    444          908\n",
      "5     Squash Court                    440         1104\n",
      "6     Table Tennis                    403          830\n",
      "7   Tennis Court 1                    408         1320\n",
      "8   Tennis Court 2                    389         1278\n"
     ]
    }
   ],
   "execution_count": 156
  },
  {
   "metadata": {
    "ExecuteTime": {
     "end_time": "2024-05-28T23:18:22.179934Z",
     "start_time": "2024-05-28T23:18:22.173017Z"
    }
   },
   "cell_type": "code",
   "source": [
    "#/* Q13: Find the facilities usage by month, but not guests */\n",
    "\n",
    "# Define SQL query\n",
    "query = \"\"\"\n",
    "SELECT f.name, strftime('%m', b.starttime) as Month, COUNT(b.bookid) as 'Total Member Bookings'\n",
    "FROM Facilities as f\n",
    "INNER JOIN Bookings as b ON b.facid = f.facid\n",
    "WHERE b.memid != 0\n",
    "GROUP BY Month, f.name\n",
    "\"\"\"\n",
    "\n",
    "# Execute the SQL query and fetch the result into a pandas DataFrame\n",
    "df = pd.read_sql_query(query, connection)\n",
    "\n",
    "# Print the DF\n",
    "print(df)"
   ],
   "id": "4bccb1f189e70ea9",
   "outputs": [
    {
     "name": "stdout",
     "output_type": "stream",
     "text": [
      "               name Month  Total Member Bookings\n",
      "0   Badminton Court    07                     51\n",
      "1    Massage Room 1    07                     77\n",
      "2    Massage Room 2    07                      4\n",
      "3        Pool Table    07                    103\n",
      "4     Snooker Table    07                     68\n",
      "5      Squash Court    07                     23\n",
      "6      Table Tennis    07                     48\n",
      "7    Tennis Court 1    07                     65\n",
      "8    Tennis Court 2    07                     41\n",
      "9   Badminton Court    08                    132\n",
      "10   Massage Room 1    08                    153\n",
      "11   Massage Room 2    08                      9\n",
      "12       Pool Table    08                    272\n",
      "13    Snooker Table    08                    154\n",
      "14     Squash Court    08                     85\n",
      "15     Table Tennis    08                    143\n",
      "16   Tennis Court 1    08                    111\n",
      "17   Tennis Court 2    08                    109\n",
      "18  Badminton Court    09                    161\n",
      "19   Massage Room 1    09                    191\n",
      "20   Massage Room 2    09                     14\n",
      "21       Pool Table    09                    408\n",
      "22    Snooker Table    09                    199\n",
      "23     Squash Court    09                     87\n",
      "24     Table Tennis    09                    194\n",
      "25   Tennis Court 1    09                    132\n",
      "26   Tennis Court 2    09                    126\n"
     ]
    }
   ],
   "execution_count": 157
  }
 ],
 "metadata": {
  "kernelspec": {
   "display_name": "Python 3",
   "language": "python",
   "name": "python3"
  },
  "language_info": {
   "codemirror_mode": {
    "name": "ipython",
    "version": 2
   },
   "file_extension": ".py",
   "mimetype": "text/x-python",
   "name": "python",
   "nbconvert_exporter": "python",
   "pygments_lexer": "ipython2",
   "version": "2.7.6"
  }
 },
 "nbformat": 4,
 "nbformat_minor": 5
}
