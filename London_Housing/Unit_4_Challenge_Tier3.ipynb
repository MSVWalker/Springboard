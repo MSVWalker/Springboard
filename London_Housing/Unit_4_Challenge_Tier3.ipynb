{
 "cells": [
  {
   "cell_type": "markdown",
   "metadata": {},
   "source": [
    "# Springboard Data Science Career Track Unit 4 Challenge - Tier 3 Complete\n",
    "\n",
    "## Objectives\n",
    "Hey! Great job getting through those challenging DataCamp courses. You're learning a lot in a short span of time. \n",
    "\n",
    "In this notebook, you're going to apply the skills you've been learning, bridging the gap between the controlled environment of DataCamp and the *slightly* messier work that data scientists do with actual datasets!\n",
    "\n",
    "Here’s the mystery we’re going to solve: ***which boroughs of London have seen the greatest increase in housing prices, on average, over the last two decades?***\n",
    "\n",
    "\n",
    "A borough is just a fancy word for district. You may be familiar with the five boroughs of New York… well, there are 32 boroughs within Greater London [(here's some info for the curious)](https://en.wikipedia.org/wiki/London_boroughs). Some of them are more desirable areas to live in, and the data will reflect that with a greater rise in housing prices.\n",
    "\n",
    "***This is the Tier 3 notebook, which means it's not filled in at all: we'll just give you the skeleton of a project, the brief and the data. It's up to you to play around with it and see what you can find out! Good luck! If you struggle, feel free to look at easier tiers for help; but try to dip in and out of them, as the more independent work you do, the better it is for your learning!***\n",
    "\n",
    "This challenge will make use of only what you learned in the following DataCamp courses: \n",
    "- Prework courses (Introduction to Python for Data Science, Intermediate Python for Data Science)\n",
    "- Data Types for Data Science\n",
    "- Python Data Science Toolbox (Part One) \n",
    "- pandas Foundations\n",
    "- Manipulating DataFrames with pandas\n",
    "- Merging DataFrames with pandas\n",
    "\n",
    "Of the tools, techniques and concepts in the above DataCamp courses, this challenge should require the application of the following: \n",
    "- **pandas**\n",
    "    - **data ingestion and inspection** (pandas Foundations, Module One) \n",
    "    - **exploratory data analysis** (pandas Foundations, Module Two)\n",
    "    - **tidying and cleaning** (Manipulating DataFrames with pandas, Module Three) \n",
    "    - **transforming DataFrames** (Manipulating DataFrames with pandas, Module One)\n",
    "    - **subsetting DataFrames with lists** (Manipulating DataFrames with pandas, Module One) \n",
    "    - **filtering DataFrames** (Manipulating DataFrames with pandas, Module One) \n",
    "    - **grouping data** (Manipulating DataFrames with pandas, Module Four) \n",
    "    - **melting data** (Manipulating DataFrames with pandas, Module Three) \n",
    "    - **advanced indexing** (Manipulating DataFrames with pandas, Module Four) \n",
    "- **matplotlib** (Intermediate Python for Data Science, Module One)\n",
    "- **fundamental data types** (Data Types for Data Science, Module One) \n",
    "- **dictionaries** (Intermediate Python for Data Science, Module Two)\n",
    "- **handling dates and times** (Data Types for Data Science, Module Four)\n",
    "- **function definition** (Python Data Science Toolbox - Part One, Module One)\n",
    "- **default arguments, variable length, and scope** (Python Data Science Toolbox - Part One, Module Two) \n",
    "- **lambda functions and error handling** (Python Data Science Toolbox - Part One, Module Four) "
   ]
  },
  {
   "cell_type": "markdown",
   "metadata": {
    "colab_type": "text",
    "id": "Ipgd2nV8Jpgl"
   },
   "source": [
    "## The Data Science Pipeline\n",
    "\n",
    "This is Tier Three, so we'll get you started. But after that, it's all in your hands! When you feel done with your investigations, look back over what you've accomplished, and prepare a quick presentation of your findings for the next mentor meeting. \n",
    "\n",
    "Data Science is magical. In this case study, you'll get to apply some complex machine learning algorithms. But as  [David Spiegelhalter](https://www.youtube.com/watch?v=oUs1uvsz0Ok) reminds us, there is no substitute for simply **taking a really, really good look at the data.** Sometimes, this is all we need to answer our question.\n",
    "\n",
    "Data Science projects generally adhere to the four stages of Data Science Pipeline:\n",
    "1. Sourcing and loading \n",
    "2. Cleaning, transforming, and visualizing \n",
    "3. Modeling \n",
    "4. Evaluating and concluding \n"
   ]
  },
  {
   "cell_type": "markdown",
   "metadata": {
    "colab_type": "text",
    "id": "zswDqbefJpgm"
   },
   "source": [
    "### 1. Sourcing and Loading \n",
    "\n",
    "Any Data Science project kicks off by importing  ***pandas***. The documentation of this wonderful library can be found [here](https://pandas.pydata.org/). As you've seen, pandas is conveniently connected to the [Numpy](http://www.numpy.org/) and [Matplotlib](https://matplotlib.org/) libraries. \n",
    "\n",
    "***Hint:*** This part of the data science pipeline will test those skills you acquired in the pandas Foundations course, Module One. "
   ]
  },
  {
   "cell_type": "markdown",
   "metadata": {
    "colab_type": "text",
    "id": "aEau5nEvJpgm"
   },
   "source": [
    "#### 1.1. Importing Libraries"
   ]
  },
  {
   "cell_type": "code",
   "metadata": {
    "colab": {},
    "colab_type": "code",
    "id": "7Bt_Q_oPJpgn",
    "ExecuteTime": {
     "end_time": "2024-05-09T02:04:21.584171Z",
     "start_time": "2024-05-09T02:04:21.578435Z"
    }
   },
   "source": [
    "# Let's import the pandas, numpy libraries as pd, and np respectively. \n",
    "import pandas as pd\n",
    "import numpy as np\n",
    "\n",
    "# Load the pyplot collection of functions from matplotlib, as plt \n",
    "import matplotlib.pyplot as plt\n"
   ],
   "outputs": [],
   "execution_count": 26
  },
  {
   "cell_type": "markdown",
   "metadata": {
    "colab_type": "text",
    "id": "koUrawxsJpgq"
   },
   "source": [
    "#### 1.2.  Loading the data\n",
    "Your data comes from the [London Datastore](https://data.london.gov.uk/): a free, open-source data-sharing portal for London-oriented datasets. "
   ]
  },
  {
   "cell_type": "code",
   "metadata": {
    "ExecuteTime": {
     "end_time": "2024-05-09T02:04:30.105725Z",
     "start_time": "2024-05-09T02:04:25.821041Z"
    }
   },
   "source": [
    "# First, make a variable called url_LondonHousePrices, and assign it the following link, enclosed in quotation-marks as a string:\n",
    "# https://data.london.gov.uk/download/uk-house-price-index/70ac0766-8902-4eb5-aab5-01951aaed773/UK%20House%20price%20index.xls\n",
    "\n",
    "url_LondonHousePrices = \"https://data.london.gov.uk/download/uk-house-price-index/70ac0766-8902-4eb5-aab5-01951aaed773/UK%20House%20price%20index.xls\"\n",
    "\n",
    "# The dataset we're interested in contains the Average prices of the houses, and is actually on a particular sheet of the Excel file. \n",
    "# As a result, we need to specify the sheet name in the read_excel() method.\n",
    "# Put this data into a variable called properties.  \n",
    "properties = pd.read_excel(url_LondonHousePrices, sheet_name='Average price', index_col= None)"
   ],
   "outputs": [],
   "execution_count": 27
  },
  {
   "cell_type": "markdown",
   "metadata": {
    "colab_type": "text",
    "id": "POukEJXgJpgu"
   },
   "source": [
    "### 2. Cleaning, transforming, and visualizing\n",
    "This second stage is arguably the most important part of any Data Science project. The first thing to do is take a proper look at the data. Cleaning forms the majority of this stage, and can be done both before or after Transformation.\n",
    "\n",
    "The end goal of data cleaning is to have tidy data. When data is tidy: \n",
    "\n",
    "1. Each variable has a column.\n",
    "2. Each observation forms a row.\n",
    "\n",
    "Keep the end goal in mind as you move through this process, every step will take you closer. \n",
    "\n",
    "\n",
    "\n",
    "***Hint:*** This part of the data science pipeline should test those skills you acquired in: \n",
    "- Intermediate Python for data science, all modules.\n",
    "- pandas Foundations, all modules. \n",
    "- Manipulating DataFrames with pandas, all modules.\n",
    "- Data Types for Data Science, Module Four.\n",
    "- Python Data Science Toolbox - Part One, all modules"
   ]
  },
  {
   "cell_type": "markdown",
   "metadata": {
    "colab_type": "text",
    "id": "Te0Q548tnzZa"
   },
   "source": [
    "**2.1. Exploring your data** \n",
    "\n",
    "Think about your pandas functions for checking out a dataframe. "
   ]
  },
  {
   "cell_type": "code",
   "metadata": {
    "colab": {},
    "colab_type": "code",
    "id": "Rxirxw_qoAJa",
    "ExecuteTime": {
     "end_time": "2024-05-09T02:04:31.723374Z",
     "start_time": "2024-05-09T02:04:31.716530Z"
    }
   },
   "source": [
    "properties.head(5)\n",
    "# The table is not in tidy formatting. Need to do the following: \n",
    "# 1. Transpose the data so Borough name is the first column\n",
    "# 2. Reset the index in order to index on the Borough name, not the ID\n",
    "# 3. Remove columns"
   ],
   "outputs": [
    {
     "data": {
      "text/plain": [
       "  Unnamed: 0 City of London Barking & Dagenham       Barnet       Bexley  \\\n",
       "0        NaT      E09000001          E09000002    E09000003    E09000004   \n",
       "1 1995-01-01    91448.98487         50460.2266  93284.51832  64958.09036   \n",
       "2 1995-02-01    82202.77314        51085.77983  93190.16963  64787.92069   \n",
       "3 1995-03-01    79120.70256        51268.96956  92247.52435  64367.49344   \n",
       "4 1995-04-01    77101.20804        53133.50526  90762.87492  64277.66881   \n",
       "\n",
       "         Brent      Bromley       Camden      Croydon       Ealing  ...  \\\n",
       "0    E09000005    E09000006    E09000007    E09000008    E09000009  ...   \n",
       "1  71306.56698  81671.47692  120932.8881  69158.16225  79885.89069  ...   \n",
       "2  72022.26197  81657.55944  119508.8622  68951.09542  80897.06551  ...   \n",
       "3  72015.76274  81449.31143  120282.2131  68712.44341  81379.86288  ...   \n",
       "4  72965.63094  81124.41227   120097.899  68610.04641  82188.90498  ...   \n",
       "\n",
       "    NORTH WEST YORKS & THE HUMBER EAST MIDLANDS WEST MIDLANDS EAST OF ENGLAND  \\\n",
       "0    E12000002          E12000003     E12000004     E12000005       E12000006   \n",
       "1  43958.48001        44803.42878   45544.52227   48527.52339      56701.5961   \n",
       "2  43925.42289        44528.80721   46051.57066   49341.29029     56593.59475   \n",
       "3   44434.8681        45200.46775   45383.82395   49442.17973     56171.18278   \n",
       "4   44267.7796        45614.34341   46124.23045   49455.93299     56567.89582   \n",
       "\n",
       "        LONDON   SOUTH EAST   SOUTH WEST Unnamed: 47      England  \n",
       "0    E12000007    E12000008    E12000009         NaN    E92000001  \n",
       "1  74435.76052  64018.87894   54705.1579         NaN  53202.77128  \n",
       "2  72777.93709  63715.02399  54356.14843         NaN   53096.1549  \n",
       "3  73896.84204  64113.60858  53583.07667         NaN   53201.2843  \n",
       "4  74455.28754  64623.22395  54786.01938         NaN   53590.8548  \n",
       "\n",
       "[5 rows x 49 columns]"
      ],
      "text/html": [
       "<div>\n",
       "<style scoped>\n",
       "    .dataframe tbody tr th:only-of-type {\n",
       "        vertical-align: middle;\n",
       "    }\n",
       "\n",
       "    .dataframe tbody tr th {\n",
       "        vertical-align: top;\n",
       "    }\n",
       "\n",
       "    .dataframe thead th {\n",
       "        text-align: right;\n",
       "    }\n",
       "</style>\n",
       "<table border=\"1\" class=\"dataframe\">\n",
       "  <thead>\n",
       "    <tr style=\"text-align: right;\">\n",
       "      <th></th>\n",
       "      <th>Unnamed: 0</th>\n",
       "      <th>City of London</th>\n",
       "      <th>Barking &amp; Dagenham</th>\n",
       "      <th>Barnet</th>\n",
       "      <th>Bexley</th>\n",
       "      <th>Brent</th>\n",
       "      <th>Bromley</th>\n",
       "      <th>Camden</th>\n",
       "      <th>Croydon</th>\n",
       "      <th>Ealing</th>\n",
       "      <th>...</th>\n",
       "      <th>NORTH WEST</th>\n",
       "      <th>YORKS &amp; THE HUMBER</th>\n",
       "      <th>EAST MIDLANDS</th>\n",
       "      <th>WEST MIDLANDS</th>\n",
       "      <th>EAST OF ENGLAND</th>\n",
       "      <th>LONDON</th>\n",
       "      <th>SOUTH EAST</th>\n",
       "      <th>SOUTH WEST</th>\n",
       "      <th>Unnamed: 47</th>\n",
       "      <th>England</th>\n",
       "    </tr>\n",
       "  </thead>\n",
       "  <tbody>\n",
       "    <tr>\n",
       "      <th>0</th>\n",
       "      <td>NaT</td>\n",
       "      <td>E09000001</td>\n",
       "      <td>E09000002</td>\n",
       "      <td>E09000003</td>\n",
       "      <td>E09000004</td>\n",
       "      <td>E09000005</td>\n",
       "      <td>E09000006</td>\n",
       "      <td>E09000007</td>\n",
       "      <td>E09000008</td>\n",
       "      <td>E09000009</td>\n",
       "      <td>...</td>\n",
       "      <td>E12000002</td>\n",
       "      <td>E12000003</td>\n",
       "      <td>E12000004</td>\n",
       "      <td>E12000005</td>\n",
       "      <td>E12000006</td>\n",
       "      <td>E12000007</td>\n",
       "      <td>E12000008</td>\n",
       "      <td>E12000009</td>\n",
       "      <td>NaN</td>\n",
       "      <td>E92000001</td>\n",
       "    </tr>\n",
       "    <tr>\n",
       "      <th>1</th>\n",
       "      <td>1995-01-01</td>\n",
       "      <td>91448.98487</td>\n",
       "      <td>50460.2266</td>\n",
       "      <td>93284.51832</td>\n",
       "      <td>64958.09036</td>\n",
       "      <td>71306.56698</td>\n",
       "      <td>81671.47692</td>\n",
       "      <td>120932.8881</td>\n",
       "      <td>69158.16225</td>\n",
       "      <td>79885.89069</td>\n",
       "      <td>...</td>\n",
       "      <td>43958.48001</td>\n",
       "      <td>44803.42878</td>\n",
       "      <td>45544.52227</td>\n",
       "      <td>48527.52339</td>\n",
       "      <td>56701.5961</td>\n",
       "      <td>74435.76052</td>\n",
       "      <td>64018.87894</td>\n",
       "      <td>54705.1579</td>\n",
       "      <td>NaN</td>\n",
       "      <td>53202.77128</td>\n",
       "    </tr>\n",
       "    <tr>\n",
       "      <th>2</th>\n",
       "      <td>1995-02-01</td>\n",
       "      <td>82202.77314</td>\n",
       "      <td>51085.77983</td>\n",
       "      <td>93190.16963</td>\n",
       "      <td>64787.92069</td>\n",
       "      <td>72022.26197</td>\n",
       "      <td>81657.55944</td>\n",
       "      <td>119508.8622</td>\n",
       "      <td>68951.09542</td>\n",
       "      <td>80897.06551</td>\n",
       "      <td>...</td>\n",
       "      <td>43925.42289</td>\n",
       "      <td>44528.80721</td>\n",
       "      <td>46051.57066</td>\n",
       "      <td>49341.29029</td>\n",
       "      <td>56593.59475</td>\n",
       "      <td>72777.93709</td>\n",
       "      <td>63715.02399</td>\n",
       "      <td>54356.14843</td>\n",
       "      <td>NaN</td>\n",
       "      <td>53096.1549</td>\n",
       "    </tr>\n",
       "    <tr>\n",
       "      <th>3</th>\n",
       "      <td>1995-03-01</td>\n",
       "      <td>79120.70256</td>\n",
       "      <td>51268.96956</td>\n",
       "      <td>92247.52435</td>\n",
       "      <td>64367.49344</td>\n",
       "      <td>72015.76274</td>\n",
       "      <td>81449.31143</td>\n",
       "      <td>120282.2131</td>\n",
       "      <td>68712.44341</td>\n",
       "      <td>81379.86288</td>\n",
       "      <td>...</td>\n",
       "      <td>44434.8681</td>\n",
       "      <td>45200.46775</td>\n",
       "      <td>45383.82395</td>\n",
       "      <td>49442.17973</td>\n",
       "      <td>56171.18278</td>\n",
       "      <td>73896.84204</td>\n",
       "      <td>64113.60858</td>\n",
       "      <td>53583.07667</td>\n",
       "      <td>NaN</td>\n",
       "      <td>53201.2843</td>\n",
       "    </tr>\n",
       "    <tr>\n",
       "      <th>4</th>\n",
       "      <td>1995-04-01</td>\n",
       "      <td>77101.20804</td>\n",
       "      <td>53133.50526</td>\n",
       "      <td>90762.87492</td>\n",
       "      <td>64277.66881</td>\n",
       "      <td>72965.63094</td>\n",
       "      <td>81124.41227</td>\n",
       "      <td>120097.899</td>\n",
       "      <td>68610.04641</td>\n",
       "      <td>82188.90498</td>\n",
       "      <td>...</td>\n",
       "      <td>44267.7796</td>\n",
       "      <td>45614.34341</td>\n",
       "      <td>46124.23045</td>\n",
       "      <td>49455.93299</td>\n",
       "      <td>56567.89582</td>\n",
       "      <td>74455.28754</td>\n",
       "      <td>64623.22395</td>\n",
       "      <td>54786.01938</td>\n",
       "      <td>NaN</td>\n",
       "      <td>53590.8548</td>\n",
       "    </tr>\n",
       "  </tbody>\n",
       "</table>\n",
       "<p>5 rows × 49 columns</p>\n",
       "</div>"
      ]
     },
     "execution_count": 28,
     "metadata": {},
     "output_type": "execute_result"
    }
   ],
   "execution_count": 28
  },
  {
   "cell_type": "markdown",
   "metadata": {
    "colab_type": "text",
    "id": "tE9Sqt9-oAta"
   },
   "source": [
    "#**2.2. Cleaning the data**\n",
    "\n",
    "You might find you need to transpose your dataframe, check out what its row indexes are, and reset the index. You  also might find you need to assign the values of the first row to your column headings  . (Hint: recall the .columns feature of DataFrames, as well as the iloc[] method).\n",
    "\n",
    "Don't be afraid to use StackOverflow for help  with this."
   ]
  },
  {
   "cell_type": "code",
   "metadata": {
    "ExecuteTime": {
     "end_time": "2024-05-09T02:04:42.365165Z",
     "start_time": "2024-05-09T02:04:42.357100Z"
    }
   },
   "source": [
    "properties_transpose = properties.transpose()\n",
    "print(properties_transpose.head(5))"
   ],
   "outputs": [
    {
     "name": "stdout",
     "output_type": "stream",
     "text": [
      "                          0                    1                    2    \\\n",
      "Unnamed: 0                NaT  1995-01-01 00:00:00  1995-02-01 00:00:00   \n",
      "City of London      E09000001          91448.98487          82202.77314   \n",
      "Barking & Dagenham  E09000002           50460.2266          51085.77983   \n",
      "Barnet              E09000003          93284.51832          93190.16963   \n",
      "Bexley              E09000004          64958.09036          64787.92069   \n",
      "\n",
      "                                    3                    4    \\\n",
      "Unnamed: 0          1995-03-01 00:00:00  1995-04-01 00:00:00   \n",
      "City of London              79120.70256          77101.20804   \n",
      "Barking & Dagenham          51268.96956          53133.50526   \n",
      "Barnet                      92247.52435          90762.87492   \n",
      "Bexley                      64367.49344          64277.66881   \n",
      "\n",
      "                                    5                    6    \\\n",
      "Unnamed: 0          1995-05-01 00:00:00  1995-06-01 00:00:00   \n",
      "City of London              84409.14932          94900.51244   \n",
      "Barking & Dagenham          53042.24852          53700.34831   \n",
      "Barnet                      90258.00033          90107.23471   \n",
      "Bexley                      63997.13588          64252.32335   \n",
      "\n",
      "                                    7                    8    \\\n",
      "Unnamed: 0          1995-07-01 00:00:00  1995-08-01 00:00:00   \n",
      "City of London              110128.0423          112329.4376   \n",
      "Barking & Dagenham          52113.12157          52232.19868   \n",
      "Barnet                      91441.24768          92361.31512   \n",
      "Bexley                      63722.70055          64432.60005   \n",
      "\n",
      "                                    9    ...                  341  \\\n",
      "Unnamed: 0          1995-09-01 00:00:00  ...  2023-05-01 00:00:00   \n",
      "City of London              104473.1096  ...               908706   \n",
      "Barking & Dagenham          51471.61353  ...               343427   \n",
      "Barnet                      93273.12245  ...               578865   \n",
      "Bexley                      64509.54767  ...               399512   \n",
      "\n",
      "                                    342                  343  \\\n",
      "Unnamed: 0          2023-06-01 00:00:00  2023-07-01 00:00:00   \n",
      "City of London                   949405               926416   \n",
      "Barking & Dagenham               340643               338661   \n",
      "Barnet                           575107               577705   \n",
      "Bexley                           396601               398583   \n",
      "\n",
      "                                    344                  345  \\\n",
      "Unnamed: 0          2023-08-01 00:00:00  2023-09-01 00:00:00   \n",
      "City of London                   870778               842312   \n",
      "Barking & Dagenham               339060               337543   \n",
      "Barnet                           584405               587969   \n",
      "Bexley                           397883               399129   \n",
      "\n",
      "                                    346                  347  \\\n",
      "Unnamed: 0          2023-10-01 00:00:00  2023-11-01 00:00:00   \n",
      "City of London                   856352               819330   \n",
      "Barking & Dagenham               337374               343251   \n",
      "Barnet                           582780               582289   \n",
      "Bexley                           394539               400552   \n",
      "\n",
      "                                    348                  349  \\\n",
      "Unnamed: 0          2023-12-01 00:00:00  2024-01-01 00:00:00   \n",
      "City of London                   761923               741778   \n",
      "Barking & Dagenham               343546               332825   \n",
      "Barnet                           582169               581127   \n",
      "Bexley                           395485               396152   \n",
      "\n",
      "                                    350  \n",
      "Unnamed: 0          2024-02-01 00:00:00  \n",
      "City of London                   808976  \n",
      "Barking & Dagenham               328226  \n",
      "Barnet                           583647  \n",
      "Bexley                           391250  \n",
      "\n",
      "[5 rows x 351 columns]\n"
     ]
    }
   ],
   "execution_count": 29
  },
  {
   "cell_type": "code",
   "metadata": {
    "ExecuteTime": {
     "end_time": "2024-05-09T02:04:48.313117Z",
     "start_time": "2024-05-09T02:04:48.310977Z"
    }
   },
   "source": "print(properties_transpose.index)\n",
   "outputs": [
    {
     "name": "stdout",
     "output_type": "stream",
     "text": [
      "Index(['Unnamed: 0', 'City of London', 'Barking & Dagenham', 'Barnet',\n",
      "       'Bexley', 'Brent', 'Bromley', 'Camden', 'Croydon', 'Ealing', 'Enfield',\n",
      "       'Greenwich', 'Hackney', 'Hammersmith & Fulham', 'Haringey', 'Harrow',\n",
      "       'Havering', 'Hillingdon', 'Hounslow', 'Islington',\n",
      "       'Kensington & Chelsea', 'Kingston upon Thames', 'Lambeth', 'Lewisham',\n",
      "       'Merton', 'Newham', 'Redbridge', 'Richmond upon Thames', 'Southwark',\n",
      "       'Sutton', 'Tower Hamlets', 'Waltham Forest', 'Wandsworth',\n",
      "       'Westminster', 'Unnamed: 34', 'Inner London', 'Outer London',\n",
      "       'Unnamed: 37', 'NORTH EAST', 'NORTH WEST', 'YORKS & THE HUMBER',\n",
      "       'EAST MIDLANDS', 'WEST MIDLANDS', 'EAST OF ENGLAND', 'LONDON',\n",
      "       'SOUTH EAST', 'SOUTH WEST', 'Unnamed: 47', 'England'],\n",
      "      dtype='object')\n"
     ]
    }
   ],
   "execution_count": 30
  },
  {
   "cell_type": "code",
   "metadata": {
    "ExecuteTime": {
     "end_time": "2024-05-09T02:11:34.587843Z",
     "start_time": "2024-05-09T02:11:34.577925Z"
    }
   },
   "source": [
    "properties_t_indexed = properties_transpose.reset_index()\n",
    "print(properties_t_indexed.index)\n",
    "properties_t_indexed.head()\n",
    "\n"
   ],
   "outputs": [
    {
     "name": "stdout",
     "output_type": "stream",
     "text": [
      "RangeIndex(start=0, stop=49, step=1)\n"
     ]
    },
    {
     "data": {
      "text/plain": [
       "                index          0                    1                    2  \\\n",
       "0          Unnamed: 0        NaT  1995-01-01 00:00:00  1995-02-01 00:00:00   \n",
       "1      City of London  E09000001          91448.98487          82202.77314   \n",
       "2  Barking & Dagenham  E09000002           50460.2266          51085.77983   \n",
       "3              Barnet  E09000003          93284.51832          93190.16963   \n",
       "4              Bexley  E09000004          64958.09036          64787.92069   \n",
       "\n",
       "                     3                    4                    5  \\\n",
       "0  1995-03-01 00:00:00  1995-04-01 00:00:00  1995-05-01 00:00:00   \n",
       "1          79120.70256          77101.20804          84409.14932   \n",
       "2          51268.96956          53133.50526          53042.24852   \n",
       "3          92247.52435          90762.87492          90258.00033   \n",
       "4          64367.49344          64277.66881          63997.13588   \n",
       "\n",
       "                     6                    7                    8  ...  \\\n",
       "0  1995-06-01 00:00:00  1995-07-01 00:00:00  1995-08-01 00:00:00  ...   \n",
       "1          94900.51244          110128.0423          112329.4376  ...   \n",
       "2          53700.34831          52113.12157          52232.19868  ...   \n",
       "3          90107.23471          91441.24768          92361.31512  ...   \n",
       "4          64252.32335          63722.70055          64432.60005  ...   \n",
       "\n",
       "                   341                  342                  343  \\\n",
       "0  2023-05-01 00:00:00  2023-06-01 00:00:00  2023-07-01 00:00:00   \n",
       "1               908706               949405               926416   \n",
       "2               343427               340643               338661   \n",
       "3               578865               575107               577705   \n",
       "4               399512               396601               398583   \n",
       "\n",
       "                   344                  345                  346  \\\n",
       "0  2023-08-01 00:00:00  2023-09-01 00:00:00  2023-10-01 00:00:00   \n",
       "1               870778               842312               856352   \n",
       "2               339060               337543               337374   \n",
       "3               584405               587969               582780   \n",
       "4               397883               399129               394539   \n",
       "\n",
       "                   347                  348                  349  \\\n",
       "0  2023-11-01 00:00:00  2023-12-01 00:00:00  2024-01-01 00:00:00   \n",
       "1               819330               761923               741778   \n",
       "2               343251               343546               332825   \n",
       "3               582289               582169               581127   \n",
       "4               400552               395485               396152   \n",
       "\n",
       "                   350  \n",
       "0  2024-02-01 00:00:00  \n",
       "1               808976  \n",
       "2               328226  \n",
       "3               583647  \n",
       "4               391250  \n",
       "\n",
       "[5 rows x 352 columns]"
      ],
      "text/html": [
       "<div>\n",
       "<style scoped>\n",
       "    .dataframe tbody tr th:only-of-type {\n",
       "        vertical-align: middle;\n",
       "    }\n",
       "\n",
       "    .dataframe tbody tr th {\n",
       "        vertical-align: top;\n",
       "    }\n",
       "\n",
       "    .dataframe thead th {\n",
       "        text-align: right;\n",
       "    }\n",
       "</style>\n",
       "<table border=\"1\" class=\"dataframe\">\n",
       "  <thead>\n",
       "    <tr style=\"text-align: right;\">\n",
       "      <th></th>\n",
       "      <th>index</th>\n",
       "      <th>0</th>\n",
       "      <th>1</th>\n",
       "      <th>2</th>\n",
       "      <th>3</th>\n",
       "      <th>4</th>\n",
       "      <th>5</th>\n",
       "      <th>6</th>\n",
       "      <th>7</th>\n",
       "      <th>8</th>\n",
       "      <th>...</th>\n",
       "      <th>341</th>\n",
       "      <th>342</th>\n",
       "      <th>343</th>\n",
       "      <th>344</th>\n",
       "      <th>345</th>\n",
       "      <th>346</th>\n",
       "      <th>347</th>\n",
       "      <th>348</th>\n",
       "      <th>349</th>\n",
       "      <th>350</th>\n",
       "    </tr>\n",
       "  </thead>\n",
       "  <tbody>\n",
       "    <tr>\n",
       "      <th>0</th>\n",
       "      <td>Unnamed: 0</td>\n",
       "      <td>NaT</td>\n",
       "      <td>1995-01-01 00:00:00</td>\n",
       "      <td>1995-02-01 00:00:00</td>\n",
       "      <td>1995-03-01 00:00:00</td>\n",
       "      <td>1995-04-01 00:00:00</td>\n",
       "      <td>1995-05-01 00:00:00</td>\n",
       "      <td>1995-06-01 00:00:00</td>\n",
       "      <td>1995-07-01 00:00:00</td>\n",
       "      <td>1995-08-01 00:00:00</td>\n",
       "      <td>...</td>\n",
       "      <td>2023-05-01 00:00:00</td>\n",
       "      <td>2023-06-01 00:00:00</td>\n",
       "      <td>2023-07-01 00:00:00</td>\n",
       "      <td>2023-08-01 00:00:00</td>\n",
       "      <td>2023-09-01 00:00:00</td>\n",
       "      <td>2023-10-01 00:00:00</td>\n",
       "      <td>2023-11-01 00:00:00</td>\n",
       "      <td>2023-12-01 00:00:00</td>\n",
       "      <td>2024-01-01 00:00:00</td>\n",
       "      <td>2024-02-01 00:00:00</td>\n",
       "    </tr>\n",
       "    <tr>\n",
       "      <th>1</th>\n",
       "      <td>City of London</td>\n",
       "      <td>E09000001</td>\n",
       "      <td>91448.98487</td>\n",
       "      <td>82202.77314</td>\n",
       "      <td>79120.70256</td>\n",
       "      <td>77101.20804</td>\n",
       "      <td>84409.14932</td>\n",
       "      <td>94900.51244</td>\n",
       "      <td>110128.0423</td>\n",
       "      <td>112329.4376</td>\n",
       "      <td>...</td>\n",
       "      <td>908706</td>\n",
       "      <td>949405</td>\n",
       "      <td>926416</td>\n",
       "      <td>870778</td>\n",
       "      <td>842312</td>\n",
       "      <td>856352</td>\n",
       "      <td>819330</td>\n",
       "      <td>761923</td>\n",
       "      <td>741778</td>\n",
       "      <td>808976</td>\n",
       "    </tr>\n",
       "    <tr>\n",
       "      <th>2</th>\n",
       "      <td>Barking &amp; Dagenham</td>\n",
       "      <td>E09000002</td>\n",
       "      <td>50460.2266</td>\n",
       "      <td>51085.77983</td>\n",
       "      <td>51268.96956</td>\n",
       "      <td>53133.50526</td>\n",
       "      <td>53042.24852</td>\n",
       "      <td>53700.34831</td>\n",
       "      <td>52113.12157</td>\n",
       "      <td>52232.19868</td>\n",
       "      <td>...</td>\n",
       "      <td>343427</td>\n",
       "      <td>340643</td>\n",
       "      <td>338661</td>\n",
       "      <td>339060</td>\n",
       "      <td>337543</td>\n",
       "      <td>337374</td>\n",
       "      <td>343251</td>\n",
       "      <td>343546</td>\n",
       "      <td>332825</td>\n",
       "      <td>328226</td>\n",
       "    </tr>\n",
       "    <tr>\n",
       "      <th>3</th>\n",
       "      <td>Barnet</td>\n",
       "      <td>E09000003</td>\n",
       "      <td>93284.51832</td>\n",
       "      <td>93190.16963</td>\n",
       "      <td>92247.52435</td>\n",
       "      <td>90762.87492</td>\n",
       "      <td>90258.00033</td>\n",
       "      <td>90107.23471</td>\n",
       "      <td>91441.24768</td>\n",
       "      <td>92361.31512</td>\n",
       "      <td>...</td>\n",
       "      <td>578865</td>\n",
       "      <td>575107</td>\n",
       "      <td>577705</td>\n",
       "      <td>584405</td>\n",
       "      <td>587969</td>\n",
       "      <td>582780</td>\n",
       "      <td>582289</td>\n",
       "      <td>582169</td>\n",
       "      <td>581127</td>\n",
       "      <td>583647</td>\n",
       "    </tr>\n",
       "    <tr>\n",
       "      <th>4</th>\n",
       "      <td>Bexley</td>\n",
       "      <td>E09000004</td>\n",
       "      <td>64958.09036</td>\n",
       "      <td>64787.92069</td>\n",
       "      <td>64367.49344</td>\n",
       "      <td>64277.66881</td>\n",
       "      <td>63997.13588</td>\n",
       "      <td>64252.32335</td>\n",
       "      <td>63722.70055</td>\n",
       "      <td>64432.60005</td>\n",
       "      <td>...</td>\n",
       "      <td>399512</td>\n",
       "      <td>396601</td>\n",
       "      <td>398583</td>\n",
       "      <td>397883</td>\n",
       "      <td>399129</td>\n",
       "      <td>394539</td>\n",
       "      <td>400552</td>\n",
       "      <td>395485</td>\n",
       "      <td>396152</td>\n",
       "      <td>391250</td>\n",
       "    </tr>\n",
       "  </tbody>\n",
       "</table>\n",
       "<p>5 rows × 352 columns</p>\n",
       "</div>"
      ]
     },
     "execution_count": 35,
     "metadata": {},
     "output_type": "execute_result"
    }
   ],
   "execution_count": 35
  },
  {
   "cell_type": "code",
   "metadata": {
    "ExecuteTime": {
     "end_time": "2024-05-09T15:29:20.497299Z",
     "start_time": "2024-05-09T15:29:20.480611Z"
    }
   },
   "source": [
    "#set the column index to be the datetimes.\n",
    "properties_t_indexed.columns = properties_t_indexed.iloc[0]\n",
    "properties_t_indexed_dates = properties_t_indexed\n",
    "print(properties_t_indexed_dates.head())"
   ],
   "outputs": [
    {
     "name": "stdout",
     "output_type": "stream",
     "text": [
      "0          Unnamed: 0        NaT  1995-01-01 00:00:00  1995-02-01 00:00:00  \\\n",
      "0          Unnamed: 0        NaT  1995-01-01 00:00:00  1995-02-01 00:00:00   \n",
      "1      City of London  E09000001          91448.98487          82202.77314   \n",
      "2  Barking & Dagenham  E09000002           50460.2266          51085.77983   \n",
      "3              Barnet  E09000003          93284.51832          93190.16963   \n",
      "4              Bexley  E09000004          64958.09036          64787.92069   \n",
      "\n",
      "0  1995-03-01 00:00:00  1995-04-01 00:00:00  1995-05-01 00:00:00  \\\n",
      "0  1995-03-01 00:00:00  1995-04-01 00:00:00  1995-05-01 00:00:00   \n",
      "1          79120.70256          77101.20804          84409.14932   \n",
      "2          51268.96956          53133.50526          53042.24852   \n",
      "3          92247.52435          90762.87492          90258.00033   \n",
      "4          64367.49344          64277.66881          63997.13588   \n",
      "\n",
      "0  1995-06-01 00:00:00  1995-07-01 00:00:00  1995-08-01 00:00:00  ...  \\\n",
      "0  1995-06-01 00:00:00  1995-07-01 00:00:00  1995-08-01 00:00:00  ...   \n",
      "1          94900.51244          110128.0423          112329.4376  ...   \n",
      "2          53700.34831          52113.12157          52232.19868  ...   \n",
      "3          90107.23471          91441.24768          92361.31512  ...   \n",
      "4          64252.32335          63722.70055          64432.60005  ...   \n",
      "\n",
      "0  2023-05-01 00:00:00  2023-06-01 00:00:00  2023-07-01 00:00:00  \\\n",
      "0  2023-05-01 00:00:00  2023-06-01 00:00:00  2023-07-01 00:00:00   \n",
      "1               908706               949405               926416   \n",
      "2               343427               340643               338661   \n",
      "3               578865               575107               577705   \n",
      "4               399512               396601               398583   \n",
      "\n",
      "0  2023-08-01 00:00:00  2023-09-01 00:00:00  2023-10-01 00:00:00  \\\n",
      "0  2023-08-01 00:00:00  2023-09-01 00:00:00  2023-10-01 00:00:00   \n",
      "1               870778               842312               856352   \n",
      "2               339060               337543               337374   \n",
      "3               584405               587969               582780   \n",
      "4               397883               399129               394539   \n",
      "\n",
      "0  2023-11-01 00:00:00  2023-12-01 00:00:00  2024-01-01 00:00:00  \\\n",
      "0  2023-11-01 00:00:00  2023-12-01 00:00:00  2024-01-01 00:00:00   \n",
      "1               819330               761923               741778   \n",
      "2               343251               343546               332825   \n",
      "3               582289               582169               581127   \n",
      "4               400552               395485               396152   \n",
      "\n",
      "0  2024-02-01 00:00:00  \n",
      "0  2024-02-01 00:00:00  \n",
      "1               808976  \n",
      "2               328226  \n",
      "3               583647  \n",
      "4               391250  \n",
      "\n",
      "[5 rows x 352 columns]\n"
     ]
    }
   ],
   "execution_count": 219
  },
  {
   "cell_type": "code",
   "metadata": {
    "ExecuteTime": {
     "end_time": "2024-05-09T15:29:34.064866Z",
     "start_time": "2024-05-09T15:29:34.056993Z"
    }
   },
   "source": [
    "# Subset to remove the first row\n",
    "properties_t_indexed_dates_sub = properties_t_indexed_dates.iloc[1:]\n",
    "properties_t_indexed_dates_sub.head()"
   ],
   "outputs": [
    {
     "data": {
      "text/plain": [
       "0          Unnamed: 0        NaT 1995-01-01 00:00:00 1995-02-01 00:00:00  \\\n",
       "1      City of London  E09000001         91448.98487         82202.77314   \n",
       "2  Barking & Dagenham  E09000002          50460.2266         51085.77983   \n",
       "3              Barnet  E09000003         93284.51832         93190.16963   \n",
       "4              Bexley  E09000004         64958.09036         64787.92069   \n",
       "5               Brent  E09000005         71306.56698         72022.26197   \n",
       "\n",
       "0 1995-03-01 00:00:00 1995-04-01 00:00:00 1995-05-01 00:00:00  \\\n",
       "1         79120.70256         77101.20804         84409.14932   \n",
       "2         51268.96956         53133.50526         53042.24852   \n",
       "3         92247.52435         90762.87492         90258.00033   \n",
       "4         64367.49344         64277.66881         63997.13588   \n",
       "5         72015.76274         72965.63094         73704.04743   \n",
       "\n",
       "0 1995-06-01 00:00:00 1995-07-01 00:00:00 1995-08-01 00:00:00  ...  \\\n",
       "1         94900.51244         110128.0423         112329.4376  ...   \n",
       "2         53700.34831         52113.12157         52232.19868  ...   \n",
       "3         90107.23471         91441.24768         92361.31512  ...   \n",
       "4         64252.32335         63722.70055         64432.60005  ...   \n",
       "5         74310.48167         74127.03788          73547.0411  ...   \n",
       "\n",
       "0 2023-05-01 00:00:00 2023-06-01 00:00:00 2023-07-01 00:00:00  \\\n",
       "1              908706              949405              926416   \n",
       "2              343427              340643              338661   \n",
       "3              578865              575107              577705   \n",
       "4              399512              396601              398583   \n",
       "5              512558              514625              507636   \n",
       "\n",
       "0 2023-08-01 00:00:00 2023-09-01 00:00:00 2023-10-01 00:00:00  \\\n",
       "1              870778              842312              856352   \n",
       "2              339060              337543              337374   \n",
       "3              584405              587969              582780   \n",
       "4              397883              399129              394539   \n",
       "5              524518              526846              529493   \n",
       "\n",
       "0 2023-11-01 00:00:00 2023-12-01 00:00:00 2024-01-01 00:00:00  \\\n",
       "1              819330              761923              741778   \n",
       "2              343251              343546              332825   \n",
       "3              582289              582169              581127   \n",
       "4              400552              395485              396152   \n",
       "5              520825              519921              526581   \n",
       "\n",
       "0 2024-02-01 00:00:00  \n",
       "1              808976  \n",
       "2              328226  \n",
       "3              583647  \n",
       "4              391250  \n",
       "5              521609  \n",
       "\n",
       "[5 rows x 352 columns]"
      ],
      "text/html": [
       "<div>\n",
       "<style scoped>\n",
       "    .dataframe tbody tr th:only-of-type {\n",
       "        vertical-align: middle;\n",
       "    }\n",
       "\n",
       "    .dataframe tbody tr th {\n",
       "        vertical-align: top;\n",
       "    }\n",
       "\n",
       "    .dataframe thead th {\n",
       "        text-align: right;\n",
       "    }\n",
       "</style>\n",
       "<table border=\"1\" class=\"dataframe\">\n",
       "  <thead>\n",
       "    <tr style=\"text-align: right;\">\n",
       "      <th></th>\n",
       "      <th>Unnamed: 0</th>\n",
       "      <th>NaT</th>\n",
       "      <th>1995-01-01 00:00:00</th>\n",
       "      <th>1995-02-01 00:00:00</th>\n",
       "      <th>1995-03-01 00:00:00</th>\n",
       "      <th>1995-04-01 00:00:00</th>\n",
       "      <th>1995-05-01 00:00:00</th>\n",
       "      <th>1995-06-01 00:00:00</th>\n",
       "      <th>1995-07-01 00:00:00</th>\n",
       "      <th>1995-08-01 00:00:00</th>\n",
       "      <th>...</th>\n",
       "      <th>2023-05-01 00:00:00</th>\n",
       "      <th>2023-06-01 00:00:00</th>\n",
       "      <th>2023-07-01 00:00:00</th>\n",
       "      <th>2023-08-01 00:00:00</th>\n",
       "      <th>2023-09-01 00:00:00</th>\n",
       "      <th>2023-10-01 00:00:00</th>\n",
       "      <th>2023-11-01 00:00:00</th>\n",
       "      <th>2023-12-01 00:00:00</th>\n",
       "      <th>2024-01-01 00:00:00</th>\n",
       "      <th>2024-02-01 00:00:00</th>\n",
       "    </tr>\n",
       "  </thead>\n",
       "  <tbody>\n",
       "    <tr>\n",
       "      <th>1</th>\n",
       "      <td>City of London</td>\n",
       "      <td>E09000001</td>\n",
       "      <td>91448.98487</td>\n",
       "      <td>82202.77314</td>\n",
       "      <td>79120.70256</td>\n",
       "      <td>77101.20804</td>\n",
       "      <td>84409.14932</td>\n",
       "      <td>94900.51244</td>\n",
       "      <td>110128.0423</td>\n",
       "      <td>112329.4376</td>\n",
       "      <td>...</td>\n",
       "      <td>908706</td>\n",
       "      <td>949405</td>\n",
       "      <td>926416</td>\n",
       "      <td>870778</td>\n",
       "      <td>842312</td>\n",
       "      <td>856352</td>\n",
       "      <td>819330</td>\n",
       "      <td>761923</td>\n",
       "      <td>741778</td>\n",
       "      <td>808976</td>\n",
       "    </tr>\n",
       "    <tr>\n",
       "      <th>2</th>\n",
       "      <td>Barking &amp; Dagenham</td>\n",
       "      <td>E09000002</td>\n",
       "      <td>50460.2266</td>\n",
       "      <td>51085.77983</td>\n",
       "      <td>51268.96956</td>\n",
       "      <td>53133.50526</td>\n",
       "      <td>53042.24852</td>\n",
       "      <td>53700.34831</td>\n",
       "      <td>52113.12157</td>\n",
       "      <td>52232.19868</td>\n",
       "      <td>...</td>\n",
       "      <td>343427</td>\n",
       "      <td>340643</td>\n",
       "      <td>338661</td>\n",
       "      <td>339060</td>\n",
       "      <td>337543</td>\n",
       "      <td>337374</td>\n",
       "      <td>343251</td>\n",
       "      <td>343546</td>\n",
       "      <td>332825</td>\n",
       "      <td>328226</td>\n",
       "    </tr>\n",
       "    <tr>\n",
       "      <th>3</th>\n",
       "      <td>Barnet</td>\n",
       "      <td>E09000003</td>\n",
       "      <td>93284.51832</td>\n",
       "      <td>93190.16963</td>\n",
       "      <td>92247.52435</td>\n",
       "      <td>90762.87492</td>\n",
       "      <td>90258.00033</td>\n",
       "      <td>90107.23471</td>\n",
       "      <td>91441.24768</td>\n",
       "      <td>92361.31512</td>\n",
       "      <td>...</td>\n",
       "      <td>578865</td>\n",
       "      <td>575107</td>\n",
       "      <td>577705</td>\n",
       "      <td>584405</td>\n",
       "      <td>587969</td>\n",
       "      <td>582780</td>\n",
       "      <td>582289</td>\n",
       "      <td>582169</td>\n",
       "      <td>581127</td>\n",
       "      <td>583647</td>\n",
       "    </tr>\n",
       "    <tr>\n",
       "      <th>4</th>\n",
       "      <td>Bexley</td>\n",
       "      <td>E09000004</td>\n",
       "      <td>64958.09036</td>\n",
       "      <td>64787.92069</td>\n",
       "      <td>64367.49344</td>\n",
       "      <td>64277.66881</td>\n",
       "      <td>63997.13588</td>\n",
       "      <td>64252.32335</td>\n",
       "      <td>63722.70055</td>\n",
       "      <td>64432.60005</td>\n",
       "      <td>...</td>\n",
       "      <td>399512</td>\n",
       "      <td>396601</td>\n",
       "      <td>398583</td>\n",
       "      <td>397883</td>\n",
       "      <td>399129</td>\n",
       "      <td>394539</td>\n",
       "      <td>400552</td>\n",
       "      <td>395485</td>\n",
       "      <td>396152</td>\n",
       "      <td>391250</td>\n",
       "    </tr>\n",
       "    <tr>\n",
       "      <th>5</th>\n",
       "      <td>Brent</td>\n",
       "      <td>E09000005</td>\n",
       "      <td>71306.56698</td>\n",
       "      <td>72022.26197</td>\n",
       "      <td>72015.76274</td>\n",
       "      <td>72965.63094</td>\n",
       "      <td>73704.04743</td>\n",
       "      <td>74310.48167</td>\n",
       "      <td>74127.03788</td>\n",
       "      <td>73547.0411</td>\n",
       "      <td>...</td>\n",
       "      <td>512558</td>\n",
       "      <td>514625</td>\n",
       "      <td>507636</td>\n",
       "      <td>524518</td>\n",
       "      <td>526846</td>\n",
       "      <td>529493</td>\n",
       "      <td>520825</td>\n",
       "      <td>519921</td>\n",
       "      <td>526581</td>\n",
       "      <td>521609</td>\n",
       "    </tr>\n",
       "  </tbody>\n",
       "</table>\n",
       "<p>5 rows × 352 columns</p>\n",
       "</div>"
      ]
     },
     "execution_count": 220,
     "metadata": {},
     "output_type": "execute_result"
    }
   ],
   "execution_count": 220
  },
  {
   "cell_type": "markdown",
   "metadata": {},
   "source": [
    "**2.3. Cleaning the data (part 2)**\n",
    "\n",
    "You might we have to **rename** a couple columns. How do you do this? The clue's pretty bold..."
   ]
  },
  {
   "cell_type": "markdown",
   "metadata": {},
   "source": []
  },
  {
   "cell_type": "code",
   "metadata": {
    "colab": {},
    "colab_type": "code",
    "id": "GKkmn1AnoVZS",
    "ExecuteTime": {
     "end_time": "2024-05-09T15:30:41.069999Z",
     "start_time": "2024-05-09T15:30:41.060295Z"
    }
   },
   "source": [
    "#Remove the first row (since it's now the column names\n",
    "#Name the first two columns to be Borough and ID\n",
    "properties_tidyish = properties_t_indexed_dates_sub.reset_index(drop=True, inplace=False)\n",
    "properties_tidyish = properties_tidyish.rename(\n",
    "    columns={properties_tidyish.columns[0]: 'Borough', \n",
    "             properties_tidyish.columns[1]: 'ID'})\n",
    "properties_tidyish.head()"
   ],
   "outputs": [
    {
     "data": {
      "text/plain": [
       "0             Borough         ID 1995-01-01 00:00:00 1995-02-01 00:00:00  \\\n",
       "0      City of London  E09000001         91448.98487         82202.77314   \n",
       "1  Barking & Dagenham  E09000002          50460.2266         51085.77983   \n",
       "2              Barnet  E09000003         93284.51832         93190.16963   \n",
       "3              Bexley  E09000004         64958.09036         64787.92069   \n",
       "4               Brent  E09000005         71306.56698         72022.26197   \n",
       "\n",
       "0 1995-03-01 00:00:00 1995-04-01 00:00:00 1995-05-01 00:00:00  \\\n",
       "0         79120.70256         77101.20804         84409.14932   \n",
       "1         51268.96956         53133.50526         53042.24852   \n",
       "2         92247.52435         90762.87492         90258.00033   \n",
       "3         64367.49344         64277.66881         63997.13588   \n",
       "4         72015.76274         72965.63094         73704.04743   \n",
       "\n",
       "0 1995-06-01 00:00:00 1995-07-01 00:00:00 1995-08-01 00:00:00  ...  \\\n",
       "0         94900.51244         110128.0423         112329.4376  ...   \n",
       "1         53700.34831         52113.12157         52232.19868  ...   \n",
       "2         90107.23471         91441.24768         92361.31512  ...   \n",
       "3         64252.32335         63722.70055         64432.60005  ...   \n",
       "4         74310.48167         74127.03788          73547.0411  ...   \n",
       "\n",
       "0 2023-05-01 00:00:00 2023-06-01 00:00:00 2023-07-01 00:00:00  \\\n",
       "0              908706              949405              926416   \n",
       "1              343427              340643              338661   \n",
       "2              578865              575107              577705   \n",
       "3              399512              396601              398583   \n",
       "4              512558              514625              507636   \n",
       "\n",
       "0 2023-08-01 00:00:00 2023-09-01 00:00:00 2023-10-01 00:00:00  \\\n",
       "0              870778              842312              856352   \n",
       "1              339060              337543              337374   \n",
       "2              584405              587969              582780   \n",
       "3              397883              399129              394539   \n",
       "4              524518              526846              529493   \n",
       "\n",
       "0 2023-11-01 00:00:00 2023-12-01 00:00:00 2024-01-01 00:00:00  \\\n",
       "0              819330              761923              741778   \n",
       "1              343251              343546              332825   \n",
       "2              582289              582169              581127   \n",
       "3              400552              395485              396152   \n",
       "4              520825              519921              526581   \n",
       "\n",
       "0 2024-02-01 00:00:00  \n",
       "0              808976  \n",
       "1              328226  \n",
       "2              583647  \n",
       "3              391250  \n",
       "4              521609  \n",
       "\n",
       "[5 rows x 352 columns]"
      ],
      "text/html": [
       "<div>\n",
       "<style scoped>\n",
       "    .dataframe tbody tr th:only-of-type {\n",
       "        vertical-align: middle;\n",
       "    }\n",
       "\n",
       "    .dataframe tbody tr th {\n",
       "        vertical-align: top;\n",
       "    }\n",
       "\n",
       "    .dataframe thead th {\n",
       "        text-align: right;\n",
       "    }\n",
       "</style>\n",
       "<table border=\"1\" class=\"dataframe\">\n",
       "  <thead>\n",
       "    <tr style=\"text-align: right;\">\n",
       "      <th></th>\n",
       "      <th>Borough</th>\n",
       "      <th>ID</th>\n",
       "      <th>1995-01-01 00:00:00</th>\n",
       "      <th>1995-02-01 00:00:00</th>\n",
       "      <th>1995-03-01 00:00:00</th>\n",
       "      <th>1995-04-01 00:00:00</th>\n",
       "      <th>1995-05-01 00:00:00</th>\n",
       "      <th>1995-06-01 00:00:00</th>\n",
       "      <th>1995-07-01 00:00:00</th>\n",
       "      <th>1995-08-01 00:00:00</th>\n",
       "      <th>...</th>\n",
       "      <th>2023-05-01 00:00:00</th>\n",
       "      <th>2023-06-01 00:00:00</th>\n",
       "      <th>2023-07-01 00:00:00</th>\n",
       "      <th>2023-08-01 00:00:00</th>\n",
       "      <th>2023-09-01 00:00:00</th>\n",
       "      <th>2023-10-01 00:00:00</th>\n",
       "      <th>2023-11-01 00:00:00</th>\n",
       "      <th>2023-12-01 00:00:00</th>\n",
       "      <th>2024-01-01 00:00:00</th>\n",
       "      <th>2024-02-01 00:00:00</th>\n",
       "    </tr>\n",
       "  </thead>\n",
       "  <tbody>\n",
       "    <tr>\n",
       "      <th>0</th>\n",
       "      <td>City of London</td>\n",
       "      <td>E09000001</td>\n",
       "      <td>91448.98487</td>\n",
       "      <td>82202.77314</td>\n",
       "      <td>79120.70256</td>\n",
       "      <td>77101.20804</td>\n",
       "      <td>84409.14932</td>\n",
       "      <td>94900.51244</td>\n",
       "      <td>110128.0423</td>\n",
       "      <td>112329.4376</td>\n",
       "      <td>...</td>\n",
       "      <td>908706</td>\n",
       "      <td>949405</td>\n",
       "      <td>926416</td>\n",
       "      <td>870778</td>\n",
       "      <td>842312</td>\n",
       "      <td>856352</td>\n",
       "      <td>819330</td>\n",
       "      <td>761923</td>\n",
       "      <td>741778</td>\n",
       "      <td>808976</td>\n",
       "    </tr>\n",
       "    <tr>\n",
       "      <th>1</th>\n",
       "      <td>Barking &amp; Dagenham</td>\n",
       "      <td>E09000002</td>\n",
       "      <td>50460.2266</td>\n",
       "      <td>51085.77983</td>\n",
       "      <td>51268.96956</td>\n",
       "      <td>53133.50526</td>\n",
       "      <td>53042.24852</td>\n",
       "      <td>53700.34831</td>\n",
       "      <td>52113.12157</td>\n",
       "      <td>52232.19868</td>\n",
       "      <td>...</td>\n",
       "      <td>343427</td>\n",
       "      <td>340643</td>\n",
       "      <td>338661</td>\n",
       "      <td>339060</td>\n",
       "      <td>337543</td>\n",
       "      <td>337374</td>\n",
       "      <td>343251</td>\n",
       "      <td>343546</td>\n",
       "      <td>332825</td>\n",
       "      <td>328226</td>\n",
       "    </tr>\n",
       "    <tr>\n",
       "      <th>2</th>\n",
       "      <td>Barnet</td>\n",
       "      <td>E09000003</td>\n",
       "      <td>93284.51832</td>\n",
       "      <td>93190.16963</td>\n",
       "      <td>92247.52435</td>\n",
       "      <td>90762.87492</td>\n",
       "      <td>90258.00033</td>\n",
       "      <td>90107.23471</td>\n",
       "      <td>91441.24768</td>\n",
       "      <td>92361.31512</td>\n",
       "      <td>...</td>\n",
       "      <td>578865</td>\n",
       "      <td>575107</td>\n",
       "      <td>577705</td>\n",
       "      <td>584405</td>\n",
       "      <td>587969</td>\n",
       "      <td>582780</td>\n",
       "      <td>582289</td>\n",
       "      <td>582169</td>\n",
       "      <td>581127</td>\n",
       "      <td>583647</td>\n",
       "    </tr>\n",
       "    <tr>\n",
       "      <th>3</th>\n",
       "      <td>Bexley</td>\n",
       "      <td>E09000004</td>\n",
       "      <td>64958.09036</td>\n",
       "      <td>64787.92069</td>\n",
       "      <td>64367.49344</td>\n",
       "      <td>64277.66881</td>\n",
       "      <td>63997.13588</td>\n",
       "      <td>64252.32335</td>\n",
       "      <td>63722.70055</td>\n",
       "      <td>64432.60005</td>\n",
       "      <td>...</td>\n",
       "      <td>399512</td>\n",
       "      <td>396601</td>\n",
       "      <td>398583</td>\n",
       "      <td>397883</td>\n",
       "      <td>399129</td>\n",
       "      <td>394539</td>\n",
       "      <td>400552</td>\n",
       "      <td>395485</td>\n",
       "      <td>396152</td>\n",
       "      <td>391250</td>\n",
       "    </tr>\n",
       "    <tr>\n",
       "      <th>4</th>\n",
       "      <td>Brent</td>\n",
       "      <td>E09000005</td>\n",
       "      <td>71306.56698</td>\n",
       "      <td>72022.26197</td>\n",
       "      <td>72015.76274</td>\n",
       "      <td>72965.63094</td>\n",
       "      <td>73704.04743</td>\n",
       "      <td>74310.48167</td>\n",
       "      <td>74127.03788</td>\n",
       "      <td>73547.0411</td>\n",
       "      <td>...</td>\n",
       "      <td>512558</td>\n",
       "      <td>514625</td>\n",
       "      <td>507636</td>\n",
       "      <td>524518</td>\n",
       "      <td>526846</td>\n",
       "      <td>529493</td>\n",
       "      <td>520825</td>\n",
       "      <td>519921</td>\n",
       "      <td>526581</td>\n",
       "      <td>521609</td>\n",
       "    </tr>\n",
       "  </tbody>\n",
       "</table>\n",
       "<p>5 rows × 352 columns</p>\n",
       "</div>"
      ]
     },
     "execution_count": 221,
     "metadata": {},
     "output_type": "execute_result"
    }
   ],
   "execution_count": 221
  },
  {
   "cell_type": "markdown",
   "metadata": {
    "colab_type": "text",
    "id": "jy8BzXHmoWEw"
   },
   "source": [
    "**2.4.Transforming the data**\n",
    "\n",
    "Remember what Wes McKinney said about tidy data? \n",
    "\n",
    "You might need to **melt** your DataFrame here. "
   ]
  },
  {
   "cell_type": "code",
   "metadata": {
    "ExecuteTime": {
     "end_time": "2024-05-09T15:31:08.920713Z",
     "start_time": "2024-05-09T15:31:08.896102Z"
    }
   },
   "source": [
    "#Question: 81 lines 4-5 I tried a different method of renaming but it didn't work. Why?!\n",
    "\n",
    "properties_melted = properties_tidyish.melt(id_vars = ['Borough', 'ID'])\n",
    "properties_melted = properties_melted.rename(columns={properties_melted.columns[2]: 'Month'})\n",
    "properties_melted = properties_melted.rename(columns={properties_melted.columns[3]: 'Average Price'})\n",
    "print(properties_melted.head())"
   ],
   "outputs": [
    {
     "name": "stdout",
     "output_type": "stream",
     "text": [
      "              Borough         ID                Month Average Price\n",
      "0      City of London  E09000001  1995-01-01 00:00:00   91448.98487\n",
      "1  Barking & Dagenham  E09000002  1995-01-01 00:00:00    50460.2266\n",
      "2              Barnet  E09000003  1995-01-01 00:00:00   93284.51832\n",
      "3              Bexley  E09000004  1995-01-01 00:00:00   64958.09036\n",
      "4               Brent  E09000005  1995-01-01 00:00:00   71306.56698\n"
     ]
    }
   ],
   "execution_count": 222
  },
  {
   "cell_type": "markdown",
   "metadata": {
    "colab_type": "text",
    "id": "7kIsgAo7o3mf"
   },
   "source": [
    "Remember to make sure your column data types are all correct. Average prices, for example, should be floating point numbers... "
   ]
  },
  {
   "cell_type": "code",
   "metadata": {
    "colab": {},
    "colab_type": "code",
    "id": "ZcR4IHbcpOaq",
    "ExecuteTime": {
     "end_time": "2024-05-09T03:00:24.886756Z",
     "start_time": "2024-05-09T03:00:24.880557Z"
    }
   },
   "source": [
    "#Can see that Average Price is type 'object'\n",
    "print(properties_melted.dtypes)"
   ],
   "outputs": [
    {
     "name": "stdout",
     "output_type": "stream",
     "text": [
      "Borough          object\n",
      "ID               object\n",
      "Month            object\n",
      "Average Price    object\n",
      "dtype: object\n"
     ]
    }
   ],
   "execution_count": 89
  },
  {
   "metadata": {
    "ExecuteTime": {
     "end_time": "2024-05-09T03:01:30.337806Z",
     "start_time": "2024-05-09T03:01:30.323018Z"
    }
   },
   "cell_type": "code",
   "source": [
    "#Change type of Average Price from 'object' --> 'float'\n",
    "properties_melted['Average Price'] = properties_melted['Average Price'].astype('float')\n",
    "print(properties_melted.dtypes)"
   ],
   "outputs": [
    {
     "name": "stdout",
     "output_type": "stream",
     "text": [
      "Borough           object\n",
      "ID                object\n",
      "Month             object\n",
      "Average Price    float64\n",
      "dtype: object\n"
     ]
    }
   ],
   "execution_count": 90
  },
  {
   "cell_type": "markdown",
   "metadata": {
    "colab_type": "text",
    "id": "knLUXHLypOtw"
   },
   "source": [
    "**2.5. Cleaning the data (part 3)**\n",
    "\n",
    "Do we have an equal number of observations in the ID, Average Price, Month, and London Borough columns? Remember that there are only 32 London Boroughs. How many entries do you have in that column? \n",
    "\n",
    "Check out the contents of the London Borough column, and if you find null values, get rid of them however you see fit. "
   ]
  },
  {
   "cell_type": "code",
   "metadata": {
    "colab": {},
    "colab_type": "code",
    "id": "BnvTW5a3p0fC",
    "ExecuteTime": {
     "end_time": "2024-05-09T03:03:53.504735Z",
     "start_time": "2024-05-09T03:03:53.491910Z"
    }
   },
   "source": [
    "# We can see that there are 1050 null values in ID and Average Price\n",
    "print(properties_melted.isnull().sum())\n",
    "print(properties_melted[['Borough', 'ID', 'Month', 'Average Price']].count())"
   ],
   "outputs": [
    {
     "name": "stdout",
     "output_type": "stream",
     "text": [
      "Borough             0\n",
      "ID               1050\n",
      "Month               0\n",
      "Average Price    1050\n",
      "dtype: int64\n",
      "Borough          16800\n",
      "ID               15750\n",
      "Month            16800\n",
      "Average Price    15750\n",
      "dtype: int64\n"
     ]
    }
   ],
   "execution_count": 92
  },
  {
   "cell_type": "code",
   "metadata": {
    "ExecuteTime": {
     "end_time": "2024-05-09T03:31:31.441003Z",
     "start_time": "2024-05-09T03:31:31.419178Z"
    }
   },
   "source": [
    "#Drop na and rename as properties_tidy. Confirm that counts are all the same. \n",
    "properties_tidy = properties_melted.dropna()\n",
    "print(properties_tidy[['Borough', 'ID', 'Month', 'Average Price']].count())"
   ],
   "outputs": [
    {
     "name": "stdout",
     "output_type": "stream",
     "text": [
      "Borough          15750\n",
      "ID               15750\n",
      "Month            15750\n",
      "Average Price    15750\n",
      "dtype: int64\n"
     ]
    }
   ],
   "execution_count": 116
  },
  {
   "cell_type": "markdown",
   "metadata": {
    "colab_type": "text",
    "id": "PGEx6mJsp6dG"
   },
   "source": [
    "**2.6. Visualizing the data**\n",
    "\n",
    "To visualize the data, why not subset on a particular London Borough? Maybe do a line plot of Month against Average Price?"
   ]
  },
  {
   "metadata": {
    "ExecuteTime": {
     "end_time": "2024-05-09T03:31:44.103760Z",
     "start_time": "2024-05-09T03:31:43.995070Z"
    }
   },
   "cell_type": "code",
   "source": [
    "#Will subset specifically for the Camden Borough and graph a line plot of Month vs. Average Price. \n",
    "camden_prices = properties_tidy[properties_tidy['Borough'] == 'Camden']\n",
    "\n",
    "plt.figure(figsize=(10, 6))\n",
    "plt.plot(camden_prices['Month'], camden_prices['Average Price'], label='Average Price')\n",
    "\n",
    "plt.ylabel('Average Price ($)')\n",
    "plt.legend(['Camden'])\n",
    "\n",
    "plt.show()"
   ],
   "outputs": [
    {
     "data": {
      "text/plain": [
       "<Figure size 1000x600 with 1 Axes>"
      ],
      "image/png": "[encoded data removed]"
     },
     "metadata": {},
     "output_type": "display_data"
    }
   ],
   "execution_count": 117
  },
  {
   "cell_type": "markdown",
   "metadata": {
    "colab_type": "text",
    "id": "aWTPqSJeqHnC"
   },
   "source": [
    "To limit the number of data points you have, you might want to extract the year from every month value your *Month* column. \n",
    "\n",
    "To this end, you *could* apply a ***lambda function***. Your logic could work as follows:\n",
    "1. look through the `Month` column\n",
    "2. extract the year from each individual value in that column \n",
    "3. store that corresponding year as separate column. \n",
    "\n",
    "Whether you go ahead with this is up to you. Just so long as you answer our initial brief: which boroughs of London have seen the greatest house price increase, on average, over the past two decades? "
   ]
  },
  {
   "metadata": {
    "ExecuteTime": {
     "end_time": "2024-05-09T03:34:15.203315Z",
     "start_time": "2024-05-09T03:34:15.198464Z"
    }
   },
   "cell_type": "code",
   "source": "print(camden_prices)",
   "outputs": [
    {
     "name": "stdout",
     "output_type": "stream",
     "text": [
      "      Borough         ID                Month  Average Price\n",
      "6      Camden  E09000007  1995-01-01 00:00:00    120932.8881\n",
      "54     Camden  E09000007  1995-02-01 00:00:00    119508.8622\n",
      "102    Camden  E09000007  1995-03-01 00:00:00    120282.2131\n",
      "150    Camden  E09000007  1995-04-01 00:00:00    120097.8990\n",
      "198    Camden  E09000007  1995-05-01 00:00:00    119929.2782\n",
      "...       ...        ...                  ...            ...\n",
      "16566  Camden  E09000007  2023-10-01 00:00:00    845421.0000\n",
      "16614  Camden  E09000007  2023-11-01 00:00:00    838424.0000\n",
      "16662  Camden  E09000007  2023-12-01 00:00:00    836798.0000\n",
      "16710  Camden  E09000007  2024-01-01 00:00:00    768820.0000\n",
      "16758  Camden  E09000007  2024-02-01 00:00:00    714736.0000\n",
      "\n",
      "[350 rows x 4 columns]\n"
     ]
    }
   ],
   "execution_count": 122
  },
  {
   "metadata": {
    "ExecuteTime": {
     "end_time": "2024-05-09T03:50:08.782852Z",
     "start_time": "2024-05-09T03:50:08.679230Z"
    }
   },
   "cell_type": "code",
   "source": [
    "#Convert previous camden_prices df to date time. From datetime formatting I can easily extract the year using .dt.year from the 'Month' column. \n",
    "#Next I create camden_yearly_averages by taking the mean of the price for a given year then plot. \n",
    "camden_prices_dt = camden_prices[:]\n",
    "camden_prices_dt['Month'] = pd.to_datetime(camden_prices_dt['Month'])\n",
    "camden_prices_dt['Year'] = camden_prices_dt['Month'].dt.year\n",
    "camden_yearly_averages = camden_prices_dt.groupby('Year')['Average Price'].mean().reset_index()\n",
    "\n",
    "plt.figure(figsize=(10,6))\n",
    "plt.plot(camden_yearly_averages['Year'], camden_yearly_averages['Average Price'])\n",
    "\n",
    "plt.xlabel('Year')\n",
    "plt.ylabel('Average Price ($)')\n",
    "plt.title('Camden Average Price per Year')\n",
    "\n",
    "plt.show()\n",
    "\n",
    "\n"
   ],
   "outputs": [
    {
     "data": {
      "text/plain": [
       "<Figure size 1000x600 with 1 Axes>"
      ],
      "image/png": "[encoded data removed]"
     },
     "metadata": {},
     "output_type": "display_data"
    }
   ],
   "execution_count": 143
  },
  {
   "metadata": {},
   "cell_type": "code",
   "outputs": [],
   "execution_count": null,
   "source": ""
  },
  {
   "cell_type": "markdown",
   "metadata": {
    "colab_type": "text",
    "id": "2knuTxAEqoJ4"
   },
   "source": [
    "**3. Modeling**\n",
    "\n",
    "Consider creating a function that will calculate a ratio of house prices, comparing the price of a house in 2018 to the price in 1998.\n",
    "\n",
    "Consider calling this function create_price_ratio.\n",
    "\n",
    "You'd want this function to:\n",
    "1. Take a filter of dfg, specifically where this filter constrains the London_Borough, as an argument. For example, one admissible argument should be: dfg[dfg['London_Borough']=='Camden'].\n",
    "2. Get the Average Price for that Borough, for the years 1998 and 2018.\n",
    "4. Calculate the ratio of the Average Price for 1998 divided by the Average Price for 2018.\n",
    "5. Return that ratio.\n",
    "\n",
    "Once you've written this function, you ultimately want to use it to iterate through all the unique London_Boroughs and work out the ratio capturing the difference of house prices between 1998 and 2018.\n",
    "\n",
    "Bear in mind: you don't have to write a function like this if you don't want to. If you can solve the brief otherwise, then great! \n",
    "\n",
    "***Hint***: This section should test the skills you acquired in:\n",
    "- Python Data Science Toolbox - Part One, all modules"
   ]
  },
  {
   "metadata": {
    "ExecuteTime": {
     "end_time": "2024-05-09T04:10:36.676869Z",
     "start_time": "2024-05-09T04:10:36.665717Z"
    }
   },
   "cell_type": "code",
   "source": "print(properties_tidy.head())",
   "outputs": [
    {
     "name": "stdout",
     "output_type": "stream",
     "text": [
      "              Borough         ID                Month  Average Price\n",
      "0      City of London  E09000001  1995-01-01 00:00:00    91448.98487\n",
      "1  Barking & Dagenham  E09000002  1995-01-01 00:00:00    50460.22660\n",
      "2              Barnet  E09000003  1995-01-01 00:00:00    93284.51832\n",
      "3              Bexley  E09000004  1995-01-01 00:00:00    64958.09036\n",
      "4               Brent  E09000005  1995-01-01 00:00:00    71306.56698\n"
     ]
    }
   ],
   "execution_count": 153
  },
  {
   "metadata": {
    "ExecuteTime": {
     "end_time": "2024-05-09T15:48:27.362183Z",
     "start_time": "2024-05-09T15:48:27.350516Z"
    }
   },
   "cell_type": "code",
   "source": [
    "### Below I will standardize the data so I can see % increase from the first entry in 1995. \n",
    "### I will do this by taking every Average Price observation for a given Borough, then divide by the first observation of that same Borough. I will then subtract by 1 to get the % change. \n",
    "### For example --> take City of London Average Price on Feb 2024 --> Divide it by it's price on Jan 1995 then subtract by 1 --> this equals the % increase.\n",
    "\n",
    "# Make a copy of properties_tidy df --> define a new df called first_month and store the Borough's Average Price of it's first observation.\n",
    "# Left merge the tidy df copy and the first_month observations on Borough. This will create a df with all the observations, but a new column called Average Price_first that represents the first observation. \n",
    "# Next we define a new column 'PercentageIncrease' as [( Average Price - Average Price_First ) / Average Price First ] * 100. \n",
    "# This new df is saved as df1 and will be ready to graph!\n",
    "\n",
    "\n",
    "df = properties_tidy[:]\n",
    "first_month = df.groupby('Borough')['Average Price'].first().reset_index()\n",
    "df1 = df.merge(first_month, on='Borough', suffixes=('', '_first'))\n",
    "#Question: Why does this merge re-arrange the data? df1 is arranged by ID and then the months are chronological.  This is good ... but idk why it is happening. \n",
    "df1['PercentageIncrease'] = ((df1['Average Price'] - df1['Average Price_first']) / df1['Average Price_first'])*100\n"
   ],
   "outputs": [],
   "execution_count": 224
  },
  {
   "metadata": {
    "ExecuteTime": {
     "end_time": "2024-05-09T16:01:08.334719Z",
     "start_time": "2024-05-09T16:01:08.150301Z"
    }
   },
   "cell_type": "code",
   "source": [
    "#In order to graph by each Borough we will first create a list of the given boroughs by seeing the unique values in the 'Borough' column of df1. \n",
    "# Then for plotting we will run a for loop going through each borough, with the data being observations where the row matches that borough's name. \n",
    "boroughs = df1['Borough'].unique()\n",
    "\n",
    "plt.figure(figsize=(25,10))\n",
    "\n",
    "for borough in boroughs:\n",
    "    borough_data = df1[df1['Borough'] == borough]\n",
    "    plt.plot(borough_data['Month'], borough_data['PercentageIncrease'], label=borough)\n",
    "\n",
    "plt.ylabel('Percentage Increase (%)', fontsize=25)\n",
    "plt.title('Average Home Price % Increase since 1995 for every London Borough', fontsize=30)\n",
    "plt.xticks(fontsize=25)\n",
    "plt.yticks(fontsize=25)\n",
    "plt.legend(loc='lower center', ncol=10, bbox_to_anchor=(0.5, -0.25), fontsize=10)\n",
    "\n",
    "plt.show()"
   ],
   "outputs": [
    {
     "ename": "NameError",
     "evalue": "name 'df1' is not defined",
     "output_type": "error",
     "traceback": [
      "\u001B[0;31m---------------------------------------------------------------------------\u001B[0m",
      "\u001B[0;31mNameError\u001B[0m                                 Traceback (most recent call last)",
      "Cell \u001B[0;32mIn[1], line 3\u001B[0m\n\u001B[1;32m      1\u001B[0m \u001B[38;5;66;03m#In order to graph by each Borough we will first create a list of the given boroughs by seeing the unique values in the 'Borough' column of df1. \u001B[39;00m\n\u001B[1;32m      2\u001B[0m \u001B[38;5;66;03m# Then for plotting we will run a for loop going through each borough, with the data being observations where the row matches that borough's name. \u001B[39;00m\n\u001B[0;32m----> 3\u001B[0m boroughs \u001B[38;5;241m=\u001B[39m df1[\u001B[38;5;124m'\u001B[39m\u001B[38;5;124mBorough\u001B[39m\u001B[38;5;124m'\u001B[39m]\u001B[38;5;241m.\u001B[39munique()\n\u001B[1;32m      5\u001B[0m plt\u001B[38;5;241m.\u001B[39mfigure(figsize\u001B[38;5;241m=\u001B[39m(\u001B[38;5;241m25\u001B[39m,\u001B[38;5;241m10\u001B[39m))\n\u001B[1;32m      7\u001B[0m \u001B[38;5;28;01mfor\u001B[39;00m borough \u001B[38;5;129;01min\u001B[39;00m boroughs:\n",
      "\u001B[0;31mNameError\u001B[0m: name 'df1' is not defined"
     ]
    }
   ],
   "execution_count": 1
  },
  {
   "metadata": {
    "ExecuteTime": {
     "end_time": "2024-05-09T15:16:47.737310Z",
     "start_time": "2024-05-09T15:16:47.605996Z"
    }
   },
   "cell_type": "code",
   "source": [
    "#Create a new DF that will organize the top 10 boroughs with the highest % increase at the most current month.\n",
    "df_top10 = df1[:]\n",
    "df_top10['Month'] = pd.to_datetime(df_top10['Month'])\n",
    "\n",
    "#Grab the row 2024-02-1 for each borough and then sort by PercentageIncrease\n",
    "df_top10_latest = df_top10.loc[df_top10['Month'] == '2024-02-01']\n",
    "df_top10_sorted = df_top10_latest.sort_values('PercentageIncrease', ascending=False)\n",
    "\n",
    "#Subset to only obtain a list of the top 10 Boroughs who had the highest % increase.\n",
    "df_top10_subset = df_top10_sorted[:10]\n",
    "\n",
    "#Obtain the list of the top 10 Boroughs that had the highest % increase, which we will then graph\n",
    "boroughs_top10 = df_top10_subset['Borough']\n",
    "\n",
    "plt.figure(figsize=(10,6))\n",
    "\n",
    "# for loop that will grab data from our larger df_top10 that has all of the PercentageIncrease data.\n",
    "for borough in boroughs_top10:\n",
    "    borough_data = df_top10[df_top10['Borough'] == borough]\n",
    "    plt.plot(borough_data['Month'], borough_data['PercentageIncrease'], label=borough)\n",
    "    \n",
    "plt.xlabel('Month')\n",
    "plt.ylabel('Price Increase (%)')\n",
    "plt.title('Top 10 London Boroughs with Highest % Increase in Average Home Prices')\n",
    "plt.legend()\n",
    "\n",
    "plt.show()"
   ],
   "outputs": [
    {
     "data": {
      "text/plain": [
       "<Figure size 1000x600 with 1 Axes>"
      ],
      "image/png": "[encoded data removed]"
     },
     "metadata": {},
     "output_type": "display_data"
    }
   ],
   "execution_count": 214
  },
  {
   "cell_type": "markdown",
   "metadata": {
    "colab_type": "text",
    "id": "NzYUI7FxJpgv"
   },
   "source": [
    "### 4. Conclusion\n",
    "What can you conclude? Type out your conclusion below. \n",
    "\n",
    "Conclusions: \n",
    "1. Hackney has had the highest % increase in home prices since 1995 looking at data from February 2024. \n",
    "2. The top 10 Boroughs had a % increase from a low of 629% (Haringey) all the way up to 861% (Hackney).\n",
    "3. Out of all the Boroughs in London, North East had the lowest amount of growth with only 281%.  \n",
    "\n",
    "Look back at your notebook. Think about how you might summarize what you have done, and prepare a quick presentation on it to your mentor at your next meeting. \n",
    "\n",
    "We hope you enjoyed this practical project. It should have consolidated your data hygiene and pandas skills by looking at a real-world problem involving just the kind of dataset you might encounter as a budding data scientist. Congratulations, and looking forward to seeing you at the next step in the course! "
   ]
  }
 ],
 "metadata": {
  "colab": {
   "collapsed_sections": [],
   "name": "Springboard Data Science Career Track Unit 4 Challenge - Tier 3 Complete .ipynb",
   "provenance": []
  },
  "kernelspec": {
   "display_name": "Python 3 (ipykernel)",
   "language": "python",
   "name": "python3"
  },
  "language_info": {
   "codemirror_mode": {
    "name": "ipython",
    "version": 3
   },
   "file_extension": ".py",
   "mimetype": "text/x-python",
   "name": "python",
   "nbconvert_exporter": "python",
   "pygments_lexer": "ipython3",
   "version": "3.11.7"
  }
 },
 "nbformat": 4,
 "nbformat_minor": 1
}
